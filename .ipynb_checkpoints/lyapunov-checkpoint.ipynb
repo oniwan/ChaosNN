{
 "cells": [
  {
   "cell_type": "code",
   "execution_count": 5,
   "metadata": {
    "collapsed": false
   },
   "outputs": [
    {
     "name": "stderr",
     "output_type": "stream",
     "text": [
      "/usr/local/opt/pyenv/versions/anaconda-2.4.0/lib/python2.7/site-packages/pandas/io/data.py:33: FutureWarning: \n",
      "The pandas.io.data module is moved to a separate package (pandas-datareader) and will be removed from pandas in a future version.\n",
      "After installing the pandas-datareader package (https://github.com/pydata/pandas-datareader), you can change the import ``from pandas.io import data, wb`` to ``from pandas_datareader import data, wb``.\n",
      "  FutureWarning)\n"
     ]
    }
   ],
   "source": [
    "import pandas as pd\n",
    "import pandas.io.data as wb\n",
    "import matplotlib.pyplot as plt\n",
    "% matplotlib inline\n",
    "import numpy as np\n",
    "\n"
   ]
  },
  {
   "cell_type": "code",
   "execution_count": 6,
   "metadata": {
    "collapsed": false
   },
   "outputs": [
    {
     "data": {
      "text/html": [
       "<div>\n",
       "<table border=\"1\" class=\"dataframe\">\n",
       "  <thead>\n",
       "    <tr style=\"text-align: right;\">\n",
       "      <th></th>\n",
       "      <th>Open</th>\n",
       "      <th>High</th>\n",
       "      <th>Low</th>\n",
       "      <th>Close</th>\n",
       "      <th>Volume</th>\n",
       "      <th>Adj Close</th>\n",
       "    </tr>\n",
       "    <tr>\n",
       "      <th>Date</th>\n",
       "      <th></th>\n",
       "      <th></th>\n",
       "      <th></th>\n",
       "      <th></th>\n",
       "      <th></th>\n",
       "      <th></th>\n",
       "    </tr>\n",
       "  </thead>\n",
       "  <tbody>\n",
       "    <tr>\n",
       "      <th>2016-03-25</th>\n",
       "      <td>16949.529297</td>\n",
       "      <td>17026.140625</td>\n",
       "      <td>16889.400391</td>\n",
       "      <td>17002.750000</td>\n",
       "      <td>122700</td>\n",
       "      <td>17002.750000</td>\n",
       "    </tr>\n",
       "    <tr>\n",
       "      <th>2016-03-28</th>\n",
       "      <td>17129.269531</td>\n",
       "      <td>17167.880859</td>\n",
       "      <td>16961.410156</td>\n",
       "      <td>17134.369141</td>\n",
       "      <td>119800</td>\n",
       "      <td>17134.369141</td>\n",
       "    </tr>\n",
       "    <tr>\n",
       "      <th>2016-03-29</th>\n",
       "      <td>16985.279297</td>\n",
       "      <td>17137.199219</td>\n",
       "      <td>16948.429688</td>\n",
       "      <td>17103.529297</td>\n",
       "      <td>0</td>\n",
       "      <td>17103.529297</td>\n",
       "    </tr>\n",
       "    <tr>\n",
       "      <th>2016-03-30</th>\n",
       "      <td>17078.029297</td>\n",
       "      <td>17078.029297</td>\n",
       "      <td>16875.910156</td>\n",
       "      <td>16878.960938</td>\n",
       "      <td>127300</td>\n",
       "      <td>16878.960938</td>\n",
       "    </tr>\n",
       "    <tr>\n",
       "      <th>2016-03-31</th>\n",
       "      <td>16997.140625</td>\n",
       "      <td>17033.650391</td>\n",
       "      <td>16758.669922</td>\n",
       "      <td>16758.669922</td>\n",
       "      <td>152800</td>\n",
       "      <td>16758.669922</td>\n",
       "    </tr>\n",
       "  </tbody>\n",
       "</table>\n",
       "</div>"
      ],
      "text/plain": [
       "                    Open          High           Low         Close  Volume  \\\n",
       "Date                                                                         \n",
       "2016-03-25  16949.529297  17026.140625  16889.400391  17002.750000  122700   \n",
       "2016-03-28  17129.269531  17167.880859  16961.410156  17134.369141  119800   \n",
       "2016-03-29  16985.279297  17137.199219  16948.429688  17103.529297       0   \n",
       "2016-03-30  17078.029297  17078.029297  16875.910156  16878.960938  127300   \n",
       "2016-03-31  16997.140625  17033.650391  16758.669922  16758.669922  152800   \n",
       "\n",
       "               Adj Close  \n",
       "Date                      \n",
       "2016-03-25  17002.750000  \n",
       "2016-03-28  17134.369141  \n",
       "2016-03-29  17103.529297  \n",
       "2016-03-30  16878.960938  \n",
       "2016-03-31  16758.669922  "
      ]
     },
     "execution_count": 6,
     "metadata": {},
     "output_type": "execute_result"
    }
   ],
   "source": [
    "from datetime import datetime\n",
    "start = datetime(1970,1,1)\n",
    "end = datetime(2016,3,31)\n",
    "\n",
    "data = wb.DataReader(\"^N225\",\"yahoo\",start,end)\n",
    "data.head()\n",
    "data.tail()"
   ]
  },
  {
   "cell_type": "code",
   "execution_count": 9,
   "metadata": {
    "collapsed": false
   },
   "outputs": [],
   "source": [
    "data_Adj = data[\"Adj Close\"]\n",
    "data_np = np.array(data_Adj)"
   ]
  },
  {
   "cell_type": "code",
   "execution_count": 10,
   "metadata": {
    "collapsed": false
   },
   "outputs": [
    {
     "name": "stdout",
     "output_type": "stream",
     "text": [
      "[  9927.         9947.         9961.       ...,  17103.529297  16878.960938\n",
      "  16758.669922]\n"
     ]
    }
   ],
   "source": [
    "print data_np"
   ]
  },
  {
   "cell_type": "code",
   "execution_count": 23,
   "metadata": {
    "collapsed": false
   },
   "outputs": [
    {
     "name": "stdout",
     "output_type": "stream",
     "text": [
      "4.51544848719\n"
     ]
    }
   ],
   "source": [
    "diff = np.array([])\n",
    "for i in xrange(len(data_np)):\n",
    "    if not i+1 == len(data_np):\n",
    "        diff = np.append(diff,data_np[i+1]-data_np[i])\n",
    "lyapunov = np.sum(np.ma.log(np.abs(diff)))/len(data_np)\n",
    "print lyapunov"
   ]
  },
  {
   "cell_type": "code",
   "execution_count": 24,
   "metadata": {
    "collapsed": true
   },
   "outputs": [],
   "source": [
    "data5 = data_np[::5]"
   ]
  },
  {
   "cell_type": "code",
   "execution_count": 27,
   "metadata": {
    "collapsed": false
   },
   "outputs": [
    {
     "name": "stdout",
     "output_type": "stream",
     "text": [
      "5.36653080689\n"
     ]
    }
   ],
   "source": [
    "diff = np.array([])\n",
    "for i in xrange(len(data5)):\n",
    "    if not i+1 == len(data5):\n",
    "        diff = np.append(diff,data5[i+1]-data5[i])\n",
    "lyapunov = np.sum(np.ma.log(np.abs(diff)))/len(data5)\n",
    "print lyapunov"
   ]
  },
  {
   "cell_type": "code",
   "execution_count": null,
   "metadata": {
    "collapsed": true
   },
   "outputs": [],
   "source": [
    "from math import log\n",
    " \n",
    "def d(series,i,j):\n",
    "    return abs(series[i]-series[j])\n",
    " \n",
    "f=open('timeseries.txt', 'r')\n",
    "series=[float(i) for i in f.read().split()]\n",
    "f.close()\n",
    "N=len(series)\n",
    "eps=input('Initial diameter bound: ')\n",
    "dlist=[[] for i in range(N)]\n",
    "n=0 #number of nearby pairs found\n",
    "for i in range(N):\n",
    "    for j in range(i+1,N):\n",
    "        if d(series,i,j) < eps:\n",
    "            n+=1\n",
    "            print n\n",
    "            for k in range(min(N-i,N-j)):\n",
    "                dlist[k].append(log(d(series,i+k,j+k)))\n",
    "f=open('lyapunov.txt','w')\n",
    "for i in range(len(dlist)):\n",
    "    if len(dlist[i]):\n",
    "        print>>f, i, sum(dlist[i])/len(dlist[i])\n",
    "f.close()"
   ]
  },
  {
   "cell_type": "code",
   "execution_count": 4,
   "metadata": {
    "collapsed": false
   },
   "outputs": [
    {
     "data": {
      "text/plain": [
       "['',\n",
       " '/usr/local/opt/pyenv/versions/anaconda-2.4.0/lib/python27.zip',\n",
       " '/usr/local/opt/pyenv/versions/anaconda-2.4.0/lib/python2.7',\n",
       " '/usr/local/opt/pyenv/versions/anaconda-2.4.0/lib/python2.7/plat-darwin',\n",
       " '/usr/local/opt/pyenv/versions/anaconda-2.4.0/lib/python2.7/plat-mac',\n",
       " '/usr/local/opt/pyenv/versions/anaconda-2.4.0/lib/python2.7/plat-mac/lib-scriptpackages',\n",
       " '/usr/local/opt/pyenv/versions/anaconda-2.4.0/lib/python2.7/lib-tk',\n",
       " '/usr/local/opt/pyenv/versions/anaconda-2.4.0/lib/python2.7/lib-old',\n",
       " '/usr/local/opt/pyenv/versions/anaconda-2.4.0/lib/python2.7/lib-dynload',\n",
       " '/usr/local/Cellar/pyenv/20151124/versions/anaconda-2.4.0/lib/python2.7/site-packages/Sphinx-1.3.1-py2.7.egg',\n",
       " '/usr/local/Cellar/pyenv/20151124/versions/anaconda-2.4.0/lib/python2.7/site-packages/setuptools-18.4-py2.7.egg',\n",
       " '/usr/local/opt/pyenv/versions/anaconda-2.4.0/lib/python2.7/site-packages',\n",
       " '/usr/local/opt/pyenv/versions/anaconda-2.4.0/lib/python2.7/site-packages/aeosa',\n",
       " '/usr/local/opt/pyenv/versions/anaconda-2.4.0/lib/python2.7/site-packages/IPython/extensions',\n",
       " '/home/2829902373/.ipython']"
      ]
     },
     "execution_count": 4,
     "metadata": {},
     "output_type": "execute_result"
    }
   ],
   "source": [
    "import sys\n",
    "sys.path"
   ]
  },
  {
   "cell_type": "code",
   "execution_count": null,
   "metadata": {
    "collapsed": true
   },
   "outputs": [],
   "source": []
  }
 ],
 "metadata": {
  "kernelspec": {
   "display_name": "Python 2",
   "language": "python",
   "name": "python2"
  },
  "language_info": {
   "codemirror_mode": {
    "name": "ipython",
    "version": 2
   },
   "file_extension": ".py",
   "mimetype": "text/x-python",
   "name": "python",
   "nbconvert_exporter": "python",
   "pygments_lexer": "ipython2",
   "version": "2.7.10"
  }
 },
 "nbformat": 4,
 "nbformat_minor": 0
}
