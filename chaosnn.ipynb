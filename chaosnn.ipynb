{
 "cells": [
  {
   "cell_type": "code",
   "execution_count": 1,
   "metadata": {
    "collapsed": true
   },
   "outputs": [],
   "source": [
    "from __future__ import print_function\n",
    "import argparse\n",
    "import random\n",
    "import numpy as np\n",
    "import chainer\n",
    "from chainer import training\n",
    "from chainer.training import extensions"
   ]
  },
  {
   "cell_type": "code",
   "execution_count": 16,
   "metadata": {
    "collapsed": false
   },
   "outputs": [
    {
     "name": "stdout",
     "output_type": "stream",
     "text": [
      "[[0 1 2 3 4]\n",
      " [1 2 3 4 5]\n",
      " [2 3 4 5 6]\n",
      " [3 4 5 6 7]\n",
      " [4 5 6 7 8]]\n"
     ]
    }
   ],
   "source": [
    "import chainer\n",
    "import chainer.functions as F\n",
    "import chainer.links as L\n",
    "import numpy as np\n",
    "\n",
    "x = np.array([range(5)])\n",
    "for i in xrange(1,5):\n",
    "    x = np.vstack((x,range(i,5+i)))\n",
    "print x"
   ]
  },
  {
   "cell_type": "code",
   "execution_count": 22,
   "metadata": {
    "collapsed": false
   },
   "outputs": [
    {
     "name": "stdout",
     "output_type": "stream",
     "text": [
      "[[0 1 2 3 4 1 2 3 4 5 2 3 4 5 6 3 4 5 6 7 4 5 6 7 8]]\n"
     ]
    }
   ],
   "source": [
    "x0 = np.array([range(5)])\n",
    "x1 = np.array([range(1,6)])\n",
    "x2 = np.array([range(2,7)])\n",
    "x3 = np.array([range(3,8)])\n",
    "x4 = np.array([range(4,9)])\n",
    "s = F.concat((x0,x1,x2,x3,x4),axis=1)\n",
    "print s.data"
   ]
  },
  {
   "cell_type": "code",
   "execution_count": 24,
   "metadata": {
    "collapsed": false
   },
   "outputs": [
    {
     "data": {
      "text/plain": [
       "array([[-3.23035049, -0.89959276,  0.35255027, -0.29854244, -2.99487305,\n",
       "        -2.19102573,  0.4363513 , -3.21709347,  0.18594825,  1.6221447 ,\n",
       "        -1.66413987, -1.68397307,  0.6071099 , -0.99840033,  0.70045364,\n",
       "         0.80429351, -0.73693973,  1.49958062, -2.7808814 , -1.96280718,\n",
       "        -1.57712483, -0.11296523,  0.50114906, -2.71134257,  0.08066076,\n",
       "         1.72019386, -2.53416443,  2.10865974, -4.07359695,  0.53148246,\n",
       "        -5.25796223,  1.5724864 ,  0.68154639, -0.21349406,  2.89456367,\n",
       "         5.58018112, -3.34453487,  0.54504085,  1.9793098 , -1.06478357,\n",
       "        -3.25890255,  2.22458506,  1.22888863, -3.30351114, -0.77873874,\n",
       "         2.34976125, -2.19915152,  3.14596391,  1.84963989,  0.16356397]], dtype=float32)"
      ]
     },
     "execution_count": 24,
     "metadata": {},
     "output_type": "execute_result"
    }
   ],
   "source": [
    "x0 = L.Linear(5,50)\n",
    "x = np.array([range(5)],dtype=np.float32)\n",
    "y = x0(x)\n",
    "y.data"
   ]
  },
  {
   "cell_type": "code",
   "execution_count": 25,
   "metadata": {
    "collapsed": true
   },
   "outputs": [],
   "source": [
    "x0 = L.Linear(5,50)\n",
    "x1 = L.Linear(5,50)\n",
    "x2 = L.Linear(5,50)\n",
    "x3 = L.Linear(5,50)\n",
    "x4 = L.Linear(5,50)\n",
    "X0 =  np.array([range(5)],dtype=np.float32)\n",
    "X1 =  np.array([range(1,6)],dtype=np.float32)\n",
    "X2 =  np.array([range(2,7)],dtype=np.float32)\n",
    "X3 =  np.array([range(3,8)],dtype=np.float32)\n",
    "X4 =  np.array([range(4,9)],dtype=np.float32)"
   ]
  },
  {
   "cell_type": "code",
   "execution_count": 30,
   "metadata": {
    "collapsed": false,
    "scrolled": true
   },
   "outputs": [
    {
     "name": "stdout",
     "output_type": "stream",
     "text": [
      "[[ 0.  1.  2.  3.  4.]]\n",
      "[[-1.44477487  1.66910672 -0.47500563 -1.81804705 -4.15353251 -0.05189142\n",
      "  -2.35386848  0.8230353  -1.25348616 -0.72115445 -2.02946401  1.18666744\n",
      "  -1.01529002 -0.73725301 -0.12805259  1.78450465  1.14421463  1.67224574\n",
      "   0.96545821  1.00655222  0.12165543 -1.35251105 -0.45995671 -5.08067465\n",
      "   0.76519865  1.17973244 -3.98685718  2.2305212  -0.21071315 -0.32650495\n",
      "  -1.71446204  1.04412091 -1.43571162  3.2735939  -1.61206949  2.02214432\n",
      "   0.44891042 -1.0503664   0.95042598  2.23634768  3.32941389 -3.38624001\n",
      "   0.34196928 -3.77349591  2.46931291 -3.45697498 -0.25009108 -0.14086163\n",
      "  -1.60457945 -0.22005904]]\n",
      "[[ 0.          1.66910672  0.          0.          0.          0.          0.\n",
      "   0.8230353   0.          0.          0.          1.18666744  0.          0.\n",
      "   0.          1.78450465  1.14421463  1.67224574  0.96545821  1.00655222\n",
      "   0.12165543  0.          0.          0.          0.76519865  1.17973244\n",
      "   0.          2.2305212   0.          0.          0.          1.04412091\n",
      "   0.          3.2735939   0.          2.02214432  0.44891042  0.\n",
      "   0.95042598  2.23634768  3.32941389  0.          0.34196928  0.\n",
      "   2.46931291  0.          0.          0.          0.          0.        ]]\n"
     ]
    }
   ],
   "source": [
    "print X0\n",
    "print x0(X0).data\n",
    "print F.relu(x0(X0)).data\n",
    "\n",
    "\n",
    "#F.concat((x0,x1,x2,x3,x4),axis=1)"
   ]
  },
  {
   "cell_type": "code",
   "execution_count": 35,
   "metadata": {
    "collapsed": false
   },
   "outputs": [
    {
     "data": {
      "text/plain": [
       "array([[ -1.44477487,   1.66910672,  -0.47500563,  -1.81804705,\n",
       "         -4.15353251,  -0.05189142,  -2.35386848,   0.8230353 ,\n",
       "         -1.25348616,  -0.72115445,  -2.02946401,   1.18666744,\n",
       "         -1.01529002,  -0.73725301,  -0.12805259,   1.78450465,\n",
       "          1.14421463,   1.67224574,   0.96545821,   1.00655222,\n",
       "          0.12165543,  -1.35251105,  -0.45995671,  -5.08067465,\n",
       "          0.76519865,   1.17973244,  -3.98685718,   2.2305212 ,\n",
       "         -0.21071315,  -0.32650495,  -1.71446204,   1.04412091,\n",
       "         -1.43571162,   3.2735939 ,  -1.61206949,   2.02214432,\n",
       "          0.44891042,  -1.0503664 ,   0.95042598,   2.23634768,\n",
       "          3.32941389,  -3.38624001,   0.34196928,  -3.77349591,\n",
       "          2.46931291,  -3.45697498,  -0.25009108,  -0.14086163,\n",
       "         -1.60457945,  -0.22005904,   2.37580228,  -3.55933762,\n",
       "         -0.91901922,   3.68664646,  -4.54829025,  -7.91051579,\n",
       "          4.13310289,  -2.43942404,  -0.72390246,   6.21593761,\n",
       "          4.87554741,   7.03650284,  -1.27523768,  -0.67884612,\n",
       "          3.42901826,   0.86244678,  -4.44313812,  -0.78039193,\n",
       "          3.45775986,   0.58570814,   1.52387786,   1.52009892,\n",
       "          0.715716  ,   0.77209413,   2.43146396,  -1.0757364 ,\n",
       "         -3.57584143,  -1.88990748,  -3.00307155,  -0.74694335,\n",
       "         -3.87171173,   2.07444   ,  -0.71530092,   3.63380671,\n",
       "          3.29311919,  -2.41099095,   0.8602193 ,  -3.86378288,\n",
       "         -0.55220467,  -3.26628804,  -1.7902323 ,   5.93442917,\n",
       "         -0.33191091,  -3.00679755,   0.58897972,   3.878649  ,\n",
       "          5.42383194,  -3.87044096,  -2.11028886,  -1.32689524,\n",
       "         -0.07155561,  -2.08216858,  -6.09759521,  -4.78976297,\n",
       "         -3.87258625,   7.58792496,  -2.4952004 ,  -2.00483203,\n",
       "          2.17384338,   4.78847265,   3.15537286,  -4.95064545,\n",
       "         -3.19850039,  -0.07466674,   8.49800777,   3.70926619,\n",
       "         -0.38742113,  -4.88595343,  -2.21335101,  -2.0171752 ,\n",
       "         -0.05261075,   3.68333578,   0.63530481,  -1.17923665,\n",
       "          7.39144135,  -4.69000816,  -1.48971593,   3.81762648,\n",
       "         -0.17417955,  -1.96166921,   2.92905116,  -6.85868359,\n",
       "         -3.00623035,  -4.79281616,  -4.26424885,  -2.36942792,\n",
       "          4.94830751,   3.64153695,   0.26207089,   9.40176487,\n",
       "          1.84239852,   1.67745936,  -3.92706084,   2.39139414,\n",
       "         -2.17566752,   0.76048249,  -4.6866293 ,  -0.3401823 ,\n",
       "          2.76561451,  -3.50991106,   6.33270359,  10.62250519,\n",
       "          4.96989441,  -0.36852199, -11.79653358,  -7.99974442,\n",
       "          1.24047852,   0.80735028,  -4.67197514,  -2.60614872,\n",
       "          8.0094471 ,  -6.23239088,   0.81098837,   1.6894567 ,\n",
       "          0.08850884,   0.81867099,   2.11865258,  -3.47028685,\n",
       "          1.30782485,  -5.25028515,  -3.41869593,   3.57842684,\n",
       "         -1.49335408,   4.42798996,  -0.4364717 ,   2.90899706,\n",
       "         10.55072403,  -4.34488487,  -2.68003321,   6.99103212,\n",
       "         -1.3828609 ,  -5.31034851,   9.42736435,   1.62554908,\n",
       "          5.96508503,   3.11189508,   6.89117527,   9.92859554,\n",
       "          0.12623107,  -2.76733923,  -0.32928264,   8.42916489,\n",
       "         -4.03406334,  16.07524872,  -4.8402257 ,  -3.87486386,\n",
       "          3.92498255,   2.66708398,  -5.63048935,   0.66611999,\n",
       "         -5.77875566,  -1.72506905,   3.45517302,   8.54087353,\n",
       "         -7.89664507,  -9.57186127,  -9.97246361,   6.8550787 ,\n",
       "          8.4319067 ,   3.31873274,  -4.55462503,   2.29027534,\n",
       "          0.51050615,   2.08126593,   3.73172069, -10.72665405,\n",
       "          4.32996702,  -3.85239577,   3.23472548,  -5.94076586,\n",
       "         -6.54264355,   0.67389083,   2.1712327 ,  -0.63024867,\n",
       "          4.30853462,  -0.27678037,   6.80052614,   3.34296608,\n",
       "         -2.8318541 ,   2.93724203,   2.03723335,  -2.41422439,\n",
       "         -3.32875538, -16.95425606,  -3.30335426,   3.60095644,\n",
       "        -11.08316612,   3.55128837,  12.16079044,   3.66985488,\n",
       "         -2.15753078,   3.76500654, -12.0387907 ,   1.80401194,\n",
       "         -0.52156186,  -2.33737445, -11.09844017,  -0.95122373,\n",
       "          1.49404502,   6.79291582]], dtype=float32)"
      ]
     },
     "execution_count": 35,
     "metadata": {},
     "output_type": "execute_result"
    }
   ],
   "source": [
    "y = F.concat((x0(X0),x1(X1),x2(X2),x3(X3),x4(X4)),axis=1)\n",
    "y.data"
   ]
  },
  {
   "cell_type": "code",
   "execution_count": 36,
   "metadata": {
    "collapsed": true
   },
   "outputs": [],
   "source": [
    "l1 = L.Linear(250,250)\n",
    "s = l1(y)"
   ]
  },
  {
   "cell_type": "code",
   "execution_count": 37,
   "metadata": {
    "collapsed": false
   },
   "outputs": [
    {
     "data": {
      "text/plain": [
       "array([[ -5.73396301,  -4.71343946,   0.9495855 ,  -0.93359506,\n",
       "          3.71211028,   0.07293823,  -7.07951736,   3.05272508,\n",
       "          0.62499106,  -0.84293687,   7.82073689,   5.49160528,\n",
       "         -0.35018599,  -4.79523563,   0.27637213,  -0.47997147,\n",
       "         -5.95733881,  -7.56582594,   7.22937918,   3.23361778,\n",
       "         -1.00072443, -13.27741623,   4.58362007,  -0.87390852,\n",
       "          9.80530167,  -4.56243849,   1.37961543,   5.91709614,\n",
       "         -6.36962414,  -0.60047352,   4.61717844,   1.64443612,\n",
       "         -3.06508875, -10.45810127,   0.0881223 ,   2.19514227,\n",
       "         -3.07270193,   0.83005023,   5.92919159,  -4.90198946,\n",
       "          0.28255662,   5.76656914,   0.91110039,  -0.97530568,\n",
       "          2.16356301,   0.95778704,  -1.19613218,   2.59705091,\n",
       "         -4.08356714,   1.22752166,  -6.79842663,  -3.93853712,\n",
       "          1.83004177,  -1.82399821,   1.37630415,   1.77537715,\n",
       "          2.89468622,  -0.54376602,   2.86266136,   1.72400308,\n",
       "         -2.18467903, -10.73721886,   6.95800972, -11.40473461,\n",
       "          2.17510986,  10.95237923,   2.77462673,  -2.39552832,\n",
       "          6.93150806,  -5.27721024,  -2.20112848,   3.20185089,\n",
       "          1.5508666 ,   8.99823284,  -4.1089139 ,   9.58739376,\n",
       "         -2.23668432,  -1.04662168,  -5.4078126 ,   1.61743736,\n",
       "         -0.73187351,   4.83717871,   7.09901237, -15.75814629,\n",
       "          5.44264746,  -1.12175965,   8.20698452,  -0.13973546,\n",
       "         -3.02856684,  -4.96124697,   2.6498878 ,   6.14464903,\n",
       "         -1.67598319,  -5.20405865,   2.11693835,   9.26318645,\n",
       "          1.67628264,   0.15456125,  -4.7447052 ,   6.27409697,\n",
       "          3.08700514,  10.42877293,  -5.95484638,  -6.2023592 ,\n",
       "         -3.30553889,   0.52479988,  -3.686198  ,  -2.50384712,\n",
       "          4.75123167,  -1.63317513,  -3.7491138 ,   0.44270995,\n",
       "          2.68440366,  -5.80982304,   6.51943302,  -5.59575462,\n",
       "         -3.00723147,   4.88699055,  -3.91959357,   7.38690233,\n",
       "         -3.94314718,   3.5248239 ,   3.71660614,  -5.59972763,\n",
       "          6.09169722,  -0.4094992 ,   0.11409991,   1.77805209,\n",
       "         -2.68226576,  -7.77993202,   2.31286597,  -5.29648781,\n",
       "         -5.65829802,   0.49411315,   3.97614837,   3.9200151 ,\n",
       "          3.04013109,   5.24850702,  -0.29012632,   2.12212682,\n",
       "          3.17391205,  -0.27023631,   4.0433383 ,  -2.60663366,\n",
       "          0.15825668,  -1.49384737,  -8.60216904,   5.42180538,\n",
       "          7.73848343,  -3.14318633,  -0.54185158,   4.89861202,\n",
       "         -5.36132002,  -4.15079308,   5.26430511,   0.14933446,\n",
       "          3.165797  ,   1.53623128,   2.18638015,  -3.39591408,\n",
       "          0.38502753,  -2.16871071,  -7.38716269,  -5.27912474,\n",
       "         -2.808213  ,  -7.61828423,   2.73065042,  -5.49802208,\n",
       "         -1.90982831,   7.80323744,   2.71301079,   8.81287861,\n",
       "          0.42571557,  -1.00338912,   3.75471926,   0.19231153,\n",
       "         -1.13109648,  -3.52149034,  -2.70374203,   1.56056809,\n",
       "          4.96064806,  -1.67890894,  -5.64536142,  -5.78620911,\n",
       "         -3.40864921,  -2.5774765 ,  -3.59186101,  -1.83742762,\n",
       "         -6.82487869,   2.17654586,  -1.5189805 ,  -1.69957864,\n",
       "         -5.43791485,  -0.04707339,   1.04057193,   1.48804688,\n",
       "         -1.54353654,   8.38859844,   3.89655662,  -1.14979768,\n",
       "         -5.73199654,   3.10724592,   0.96824396,   4.53797626,\n",
       "         -0.14559945,  -0.77999777,   0.26947045,  -4.37419891,\n",
       "         -2.24623823,  -9.76344395,  -1.29835904,   2.85314703,\n",
       "          1.76503861,  -3.32140064,  -3.37459517,   3.06731868,\n",
       "          2.52440333,  10.40929794,   3.87291074,  -0.14704694,\n",
       "         -3.83773184,  -1.18994927,  -2.62656927,   0.02102125,\n",
       "         -7.95521259,   6.62140036,   0.83834326,  -4.26366186,\n",
       "          8.77715015,   0.24254677,  -0.21299326,  -5.5879879 ,\n",
       "         -0.78551847,  -4.60290241,   3.56679034,   4.01733828,\n",
       "          4.34410334,   1.98378491,  -4.31079674,   3.99764323,\n",
       "         -2.63809085,  -1.00216055,   1.96572757,  -6.33396912,\n",
       "          4.31249046,   2.31474066,  -2.99387622,   2.24835515,\n",
       "          3.49980211,  -3.50177217]], dtype=float32)"
      ]
     },
     "execution_count": 37,
     "metadata": {},
     "output_type": "execute_result"
    }
   ],
   "source": [
    "s.data"
   ]
  },
  {
   "cell_type": "code",
   "execution_count": 38,
   "metadata": {
    "collapsed": false
   },
   "outputs": [
    {
     "data": {
      "text/plain": [
       "array([[  0.        ,   0.        ,   0.9495855 ,   0.        ,\n",
       "          3.71211028,   0.07293823,   0.        ,   3.05272508,\n",
       "          0.62499106,   0.        ,   7.82073689,   5.49160528,\n",
       "          0.        ,   0.        ,   0.27637213,   0.        ,\n",
       "          0.        ,   0.        ,   7.22937918,   3.23361778,\n",
       "          0.        ,   0.        ,   4.58362007,   0.        ,\n",
       "          9.80530167,   0.        ,   1.37961543,   5.91709614,\n",
       "          0.        ,   0.        ,   4.61717844,   1.64443612,\n",
       "          0.        ,   0.        ,   0.0881223 ,   2.19514227,\n",
       "          0.        ,   0.83005023,   5.92919159,   0.        ,\n",
       "          0.28255662,   5.76656914,   0.91110039,   0.        ,\n",
       "          2.16356301,   0.95778704,   0.        ,   2.59705091,\n",
       "          0.        ,   1.22752166,   0.        ,   0.        ,\n",
       "          1.83004177,   0.        ,   1.37630415,   1.77537715,\n",
       "          2.89468622,   0.        ,   2.86266136,   1.72400308,\n",
       "          0.        ,   0.        ,   6.95800972,   0.        ,\n",
       "          2.17510986,  10.95237923,   2.77462673,   0.        ,\n",
       "          6.93150806,   0.        ,   0.        ,   3.20185089,\n",
       "          1.5508666 ,   8.99823284,   0.        ,   9.58739376,\n",
       "          0.        ,   0.        ,   0.        ,   1.61743736,\n",
       "          0.        ,   4.83717871,   7.09901237,   0.        ,\n",
       "          5.44264746,   0.        ,   8.20698452,   0.        ,\n",
       "          0.        ,   0.        ,   2.6498878 ,   6.14464903,\n",
       "          0.        ,   0.        ,   2.11693835,   9.26318645,\n",
       "          1.67628264,   0.15456125,   0.        ,   6.27409697,\n",
       "          3.08700514,  10.42877293,   0.        ,   0.        ,\n",
       "          0.        ,   0.52479988,   0.        ,   0.        ,\n",
       "          4.75123167,   0.        ,   0.        ,   0.44270995,\n",
       "          2.68440366,   0.        ,   6.51943302,   0.        ,\n",
       "          0.        ,   4.88699055,   0.        ,   7.38690233,\n",
       "          0.        ,   3.5248239 ,   3.71660614,   0.        ,\n",
       "          6.09169722,   0.        ,   0.11409991,   1.77805209,\n",
       "          0.        ,   0.        ,   2.31286597,   0.        ,\n",
       "          0.        ,   0.49411315,   3.97614837,   3.9200151 ,\n",
       "          3.04013109,   5.24850702,   0.        ,   2.12212682,\n",
       "          3.17391205,   0.        ,   4.0433383 ,   0.        ,\n",
       "          0.15825668,   0.        ,   0.        ,   5.42180538,\n",
       "          7.73848343,   0.        ,   0.        ,   4.89861202,\n",
       "          0.        ,   0.        ,   5.26430511,   0.14933446,\n",
       "          3.165797  ,   1.53623128,   2.18638015,   0.        ,\n",
       "          0.38502753,   0.        ,   0.        ,   0.        ,\n",
       "          0.        ,   0.        ,   2.73065042,   0.        ,\n",
       "          0.        ,   7.80323744,   2.71301079,   8.81287861,\n",
       "          0.42571557,   0.        ,   3.75471926,   0.19231153,\n",
       "          0.        ,   0.        ,   0.        ,   1.56056809,\n",
       "          4.96064806,   0.        ,   0.        ,   0.        ,\n",
       "          0.        ,   0.        ,   0.        ,   0.        ,\n",
       "          0.        ,   2.17654586,   0.        ,   0.        ,\n",
       "          0.        ,   0.        ,   1.04057193,   1.48804688,\n",
       "          0.        ,   8.38859844,   3.89655662,   0.        ,\n",
       "          0.        ,   3.10724592,   0.96824396,   4.53797626,\n",
       "          0.        ,   0.        ,   0.26947045,   0.        ,\n",
       "          0.        ,   0.        ,   0.        ,   2.85314703,\n",
       "          1.76503861,   0.        ,   0.        ,   3.06731868,\n",
       "          2.52440333,  10.40929794,   3.87291074,   0.        ,\n",
       "          0.        ,   0.        ,   0.        ,   0.02102125,\n",
       "          0.        ,   6.62140036,   0.83834326,   0.        ,\n",
       "          8.77715015,   0.24254677,   0.        ,   0.        ,\n",
       "          0.        ,   0.        ,   3.56679034,   4.01733828,\n",
       "          4.34410334,   1.98378491,   0.        ,   3.99764323,\n",
       "          0.        ,   0.        ,   1.96572757,   0.        ,\n",
       "          4.31249046,   2.31474066,   0.        ,   2.24835515,\n",
       "          3.49980211,   0.        ]], dtype=float32)"
      ]
     },
     "execution_count": 38,
     "metadata": {},
     "output_type": "execute_result"
    }
   ],
   "source": [
    "ss = F.relu(s)\n",
    "ss.data"
   ]
  },
  {
   "cell_type": "code",
   "execution_count": null,
   "metadata": {
    "collapsed": true
   },
   "outputs": [],
   "source": []
  },
  {
   "cell_type": "code",
   "execution_count": null,
   "metadata": {
    "collapsed": true
   },
   "outputs": [],
   "source": [
    "class ChaosNN(Chain):\n",
    "    def __init__(self):\n",
    "        super(ChaosNN,self).__init__(\n",
    "        x0 = L.Linear(5,50)\n",
    "        x1 = L.Linear(5,50)\n",
    "        x2 = L.Linear(5,50)\n",
    "        x3 = L.Linear(5,50)\n",
    "        x4 = L.Linear(5,50)\n",
    "            \n",
    "        l1 = L.Linear(250,250)\n",
    "        l2 = L.Linear(250,250)\n",
    "        l3 = L.Linear(250,250)\n",
    "        l4 = L.Linear(250,250)\n",
    "        l5 = L.Linear(250,250)\n",
    "        l6 = L.Linear(250,250)\n",
    "        l7 = L.Linear(250,250)\n",
    "        l8 = L.Linear(250,250)\n",
    "        l9 = L.Linear(250,250)\n",
    "        l10 = L.Linear(250,250)\n",
    "            \n",
    "        output = L.Linear(250,5)\n",
    "        )\n",
    "    def __call__(self,x):\n",
    "        h1 = F.relu(self.x0(x))\n",
    "        h2 = F.relu(self.x1(x))\n",
    "        h3 = F.relu(self.x2(x))\n",
    "        h4 = F.relu(self.x3(x))\n",
    "        h5 = F.relu(self.x4(x))\n",
    "        h = F.relu(F.concat(h1,h2,h3,h4,h5),axis=1)\n",
    "        h = F.relu(self.l1(x))\n",
    "        h = F.relu(self.l2(x))\n",
    "        h = F.relu(self.l3(x))\n",
    "        h = F.relu(self.l4(x))\n",
    "        h = F.relu(self.l5(x))\n",
    "        h = F.relu(self.l6(x))\n",
    "        h = F.relu(self.l7(x))\n",
    "        h = F.relu(self.l8(x))\n",
    "        h = F.relu(self.l9(x))\n",
    "        h = F.relu(self.l10(x))\n",
    "        loss = F.mean_squared_error(h,y)\n",
    "        return loss\n",
    "\n",
    "\n",
    "        "
   ]
  },
  {
   "cell_type": "code",
   "execution_count": null,
   "metadata": {
    "collapsed": true
   },
   "outputs": [],
   "source": [
    "def main():\n",
    "    parser = argparse.ArgumentParser(description='ChaosNN')\n",
    "    parser.add_argument('--batchsize', '-b', type=int, default=100,help='Number of images in each mini-batch')\n",
    "    parser.add_argument('--epoch', '-e', type=int, default=20,help='Number of sweeps over the dataset to train')\n",
    "    parser.add_argument('--frequency', '-f', type=int, default=-1,help='Frequency of taking a snapshot')\n",
    "    parser.add_argument('--gpu', '-g', type=int, default=-1,help='GPU ID (negative value indicates CPU)')\n",
    "    parser.add_argument('--out', '-o', default='result',help='Directory to output the result')\n",
    "    parser.add_argument('--resume', '-r', default='',help='Resume the training from snapshot')\n",
    "    parser.add_argument('--unit', '-u', type=int, default=1000,help='Number of units')\n",
    "    args = parser.parse_args()\n",
    "    print('GPU: {}'.format(args.gpu))\n",
    "    print('# unit: {}'.format(args.unit))\n",
    "    print('# Minibatch-size: {}'.format(args.batchsize))\n",
    "    print('# epoch: {}'.format(args.epoch))\n",
    "    print('')\n",
    "# Set up a neural network to train\n",
    "# Classifier reports softmax cross entropy loss and accuracy at every\n",
    "# iteration, which will be used by the PrintReport extension below.\n",
    "    model = ChaosNN()\n",
    "    if args.gpu >= 0:\n",
    "        chainer.cuda.get_device(args.gpu).use() # Make a specified GPU current\n",
    "        model.to_gpu() # Copy the model to the GPU\n",
    "# Setup an optimizer\n",
    "    optimizer = chainer.optimizers.Adam()\n",
    "    optimizer.setup(model)\n",
    "# Load the MNIST dataset\n",
    "    train, test = chainer.datasets.get_mnist()\n",
    "    train_iter = chainer.iterators.SerialIterator(train, args.batchsize)\n",
    "    test_iter = chainer.iterators.SerialIterator(test, args.batchsize,repeat=False, shuffle=False)\n",
    "# Set up a trainer\n",
    "    updater = training.StandardUpdater(train_iter, optimizer, device=args.gpu)\n",
    "    trainer = training.Trainer(updater, (args.epoch, 'epoch'), out=args.out)\n",
    "# Evaluate the model with the test dataset for each epoch\n",
    "    trainer.extend(extensions.Evaluator(test_iter, model, device=args.gpu))\n",
    "# Dump a computational graph from 'loss' variable at the first iteration\n",
    "# The \"main\" refers to the target link of the \"main\" optimizer.\n",
    "    trainer.extend(extensions.dump_graph('main/loss'))\n",
    "# Take a snapshot for each specified epoch\n",
    "    frequency = args.epoch if args.frequency == -1 else max(1, args.frequency)\n",
    "    trainer.extend(extensions.snapshot(), trigger=(frequency, 'epoch'))\n",
    "# Write a log of evaluation statistics for each epoch\n",
    "    trainer.extend(extensions.LogReport())\n",
    "# Save two plot images to the result dir\n",
    "    if extensions.PlotReport.available():\n",
    "        trainer.extend(extensions.PlotReport(['main/loss', 'validation/main/loss'],'epoch', file_name='loss.png'))\n",
    "        trainer.extend(extensions.PlotReport(['main/accuracy', 'validation/main/accuracy'],'epoch', file_name='accuracy.png'))\n",
    "# Print selected entries of the log to stdout\n",
    "# Here \"main\" refers to the target link of the \"main\" optimizer again, and\n",
    "# \"validation\" refers to the default name of the Evaluator extension.\n",
    "# Entries other than 'epoch' are reported by the Classifier link, called by\n",
    "# either the updater or the evaluator.\n",
    "    trainer.extend(extensions.PrintReport(['epoch', 'main/loss', 'validation/main/loss','main/accuracy', 'validation/main/accuracy', 'elapsed_time']))\n",
    "# Print a progress bar to stdout\n",
    "    trainer.extend(extensions.ProgressBar())\n",
    "    if args.resume:\n",
    "# Resume from a snapshot\n",
    "        chainer.serializers.load_npz(args.resume, trainer)\n",
    "# Run the training\n",
    "    trainer.run()\n",
    "if __name__ == '__main__':\n",
    "main()"
   ]
  }
 ],
 "metadata": {
  "kernelspec": {
   "display_name": "Python 2",
   "language": "python",
   "name": "python2"
  },
  "language_info": {
   "codemirror_mode": {
    "name": "ipython",
    "version": 2
   },
   "file_extension": ".py",
   "mimetype": "text/x-python",
   "name": "python",
   "nbconvert_exporter": "python",
   "pygments_lexer": "ipython2",
   "version": "2.7.10"
  }
 },
 "nbformat": 4,
 "nbformat_minor": 2
}
